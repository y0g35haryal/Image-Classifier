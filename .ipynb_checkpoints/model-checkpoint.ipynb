{
 "cells": [
  {
   "cell_type": "raw",
   "id": "75241607-fd05-4ae2-8585-1d5ae7f09ce9",
   "metadata": {},
   "source": [
    "import tensorflow as tf\n",
    "from tensorflow.keras import layers\n",
    "from tensorflow.keras.models import Sequential\n",
    "import matplotlib.pyplot as plt\n",
    "from tensorflow.keras.utils import load_img, img_to_array"
   ]
  },
  {
   "cell_type": "raw",
   "id": "c82356fc-27cd-42ee-b438-d481cb639372",
   "metadata": {},
   "source": [
    "# Paths to datasets\n",
    "train_path = 'Data/archive/train'\n",
    "val_path = 'Data/archive/val'"
   ]
  },
  {
   "cell_type": "raw",
   "id": "2e600e81-9e89-4349-a79a-8e8abba1ea80",
   "metadata": {},
   "source": [
    "# Image size\n",
    "img_height = 180\n",
    "img_width = 180"
   ]
  },
  {
   "cell_type": "raw",
   "id": "b8d850fd-648d-4597-813a-d93142be57f2",
   "metadata": {},
   "source": [
    "# Load training and validation data\n",
    "train_data = tf.keras.utils.image_dataset_from_directory(\n",
    "    train_path,\n",
    "    image_size=(img_height, img_width),\n",
    "    batch_size=32\n",
    ")\n",
    "val_data = tf.keras.utils.image_dataset_from_directory(\n",
    "    val_path,\n",
    "    image_size=(img_height, img_width),\n",
    "    batch_size=32\n",
    ")"
   ]
  },
  {
   "cell_type": "raw",
   "id": "2babcc6d-ae56-4a4d-8da3-abe22413cb45",
   "metadata": {},
   "source": [
    "# Get class names\n",
    "class_names = train_data.class_names"
   ]
  },
  {
   "cell_type": "raw",
   "id": "e1bb9eab-eb0b-4aba-a593-c7a544172b0b",
   "metadata": {},
   "source": [
    "# Simple CNN model\n",
    "model = Sequential([\n",
    "    layers.Rescaling(1./255, input_shape=(img_height, img_width, 3)),\n",
    "    layers.Conv2D(16, 3, activation='relu'),\n",
    "    layers.MaxPooling2D(),\n",
    "    layers.Conv2D(32, 3, activation='relu'),\n",
    "    layers.MaxPooling2D(),\n",
    "    layers.Conv2D(64, 3, activation='relu'),\n",
    "    layers.MaxPooling2D(),\n",
    "    layers.Flatten(),\n",
    "    layers.Dense(128, activation='relu'),\n",
    "    layers.Dense(len(class_names))\n",
    "])"
   ]
  },
  {
   "cell_type": "raw",
   "id": "0b14502d-4a5e-45ec-9e5b-527cdad76469",
   "metadata": {},
   "source": [
    "# Compile the model\n",
    "model.compile(optimizer='adam',\n",
    "              loss=tf.keras.losses.SparseCategoricalCrossentropy(from_logits=True),\n",
    "              metrics=['accuracy'])"
   ]
  },
  {
   "cell_type": "raw",
   "id": "8112f9fa-747c-4cd8-bd18-dbbced90c1bc",
   "metadata": {},
   "source": [
    "# Train the model\n",
    "history = model.fit(train_data, validation_data=val_data, epochs=10)"
   ]
  },
  {
   "cell_type": "raw",
   "id": "cd096aa2-f858-4827-b9db-85ab7d715cba",
   "metadata": {},
   "source": [
    "# Plot accuracy and loss\n",
    "plt.plot(history.history['accuracy'], label='Accuracy')\n",
    "plt.plot(history.history['val_accuracy'], label='Val Accuracy')\n",
    "plt.title('Model Accuracy')\n",
    "plt.legend()\n",
    "plt.show()"
   ]
  },
  {
   "cell_type": "raw",
   "id": "eb3a1d98-36e2-4b83-944d-e28de133ab89",
   "metadata": {},
   "source": [
    "plt.plot(history.history['loss'], label='Loss')\n",
    "plt.plot(history.history['val_loss'], label='Val Loss')\n",
    "plt.title('Model Loss')\n",
    "plt.legend()\n",
    "plt.show()"
   ]
  },
  {
   "cell_type": "raw",
   "id": "51178298-6951-46ee-a358-59abff890b9d",
   "metadata": {},
   "source": [
    "# Predict a single image\n",
    "def predict_image(image_path):\n",
    "    img = load_img(image_path, target_size=(img_height, img_width))\n",
    "    img_array = img_to_array(img) / 255.0  # Normalize image\n",
    "    img_batch = tf.expand_dims(img_array, 0)  # Add batch dimension\n",
    "    predictions = model.predict(img_batch)\n",
    "    predicted_class = class_names[tf.argmax(predictions[0])]\n",
    "    confidence = tf.nn.softmax(predictions[0])[tf.argmax(predictions[0])] * 100\n",
    "    print(f\"The image is a {predicted_class} with {confidence:.2f}% confidence.\")"
   ]
  },
  {
   "cell_type": "raw",
   "id": "0ac40ffc-c70c-405a-8623-7328eef26789",
   "metadata": {},
   "source": [
    "# Test the model with an image\n",
    "test_image_path = 'mango.jpg'\n",
    "predict_image(test_image_path)"
   ]
  }
 ],
 "metadata": {
  "kernelspec": {
   "display_name": "Python 3 (ipykernel)",
   "language": "python",
   "name": "python3"
  },
  "language_info": {
   "codemirror_mode": {
    "name": "ipython",
    "version": 3
   },
   "file_extension": ".py",
   "mimetype": "text/x-python",
   "name": "python",
   "nbconvert_exporter": "python",
   "pygments_lexer": "ipython3",
   "version": "3.12.8"
  }
 },
 "nbformat": 4,
 "nbformat_minor": 5
}
